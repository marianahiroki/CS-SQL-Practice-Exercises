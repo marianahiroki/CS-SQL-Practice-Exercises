{
 "cells": [
  {
   "cell_type": "markdown",
   "metadata": {},
   "source": [
    "# Mental Health Analysis "
   ]
  },
  {
   "cell_type": "markdown",
   "metadata": {},
   "source": [
    "KATE expects your code to define variables with specific names that correspond to certain things we are interested in.\n",
    "\n",
    "KATE will run your notebook from top to bottom and check the latest value of those variables, so make sure you don't overwrite them.\n",
    "\n",
    "* Remember to uncomment the line assigning the variable to your answer and don't change the variable or function names.\n",
    "* Use copies of the original or previous DataFrames to make sure you do not overwrite them by mistake.\n",
    "\n",
    "You will find instructions below about how to define each variable.\n",
    "\n",
    "Once you're happy with your code, upload your notebook to KATE to check your feedback."
   ]
  },
  {
   "cell_type": "markdown",
   "metadata": {},
   "source": [
    "# How to complete and submit\n",
    "Each exercise will look something like this:\n",
    "\n",
    "```python\n",
    "example_query = ''\n",
    "#example_result = pd.read_sql(example_query, conn)\n",
    "```\n",
    "\n",
    "In each exercise you will need to define a query variable by writing the SQL code that you think will solve the problem. Once you have your query, uncomment the 2nd line, this will execute it and load the resulting data into a dataframe.\n",
    "\n",
    "Nothing else needs to be changed in the 2nd line besides uncommenting it. \n",
    "\n",
    "After running this you will be free to inspect the result produced to see whether it's what you'd expect as the result. KATE will look for variables with the names defined in this notebook, so it is important not to rename the variables defined in this notebook.\n",
    "\n",
    "Once you've completed the exercises upload this notebook to **KATE** to get feedback. You can also upload the notebook when you only have parts of it completed - if you do so, make sure you do not uncomment the `pd.read_sql` lines for which you don't have a query yet.\n",
    "\n",
    "Refer to the instructions on **KATE** for more details on the dataset."
   ]
  },
  {
   "cell_type": "markdown",
   "metadata": {},
   "source": [
    "# Introduction to the Mental Health dataset \n",
    "\n",
    "This dataset is an Open Source Mental Illness (OSMI) data. \n",
    "\n",
    "It has been collected using surveys from 2014, 2016, 2017, 2018 and 2019. \n",
    "\n",
    "The surveys are a way of understanding the mental health situation and the frequency of mental health disorder in the tech industry. \n",
    "\n",
    "The dataset is available in sqlite format and can be downloaded from [here](https://www.kaggle.com/anth7310/mental-health-in-the-tech-industry)\n",
    "\n",
    "Some preprocessing was performed before making the dataset available: similar questions were merged together, values for answers were made consistent (for example  1 == 1.0), and spelling errors were fixed. \n",
    "The raw data was processed using Python, SQL and Excel for cleaning and manipulation.\n"
   ]
  },
  {
   "cell_type": "markdown",
   "metadata": {},
   "source": [
    "# Setup\n",
    "\n",
    "The below code is setting up a connection to the SQLite Database. \n",
    "\n",
    "**Do not change this code!** The `conn` variable will be used throughout the notebook to query the database."
   ]
  },
  {
   "cell_type": "code",
   "execution_count": 3,
   "metadata": {},
   "outputs": [],
   "source": [
    "import pandas as pd\n",
    "import sqlite3\n",
    "\n",
    "conn = sqlite3.connect('data/mental_health.sqlite')\n"
   ]
  },
  {
   "cell_type": "markdown",
   "metadata": {},
   "source": [
    "# Queries"
   ]
  },
  {
   "cell_type": "markdown",
   "metadata": {},
   "source": [
    "Now that we have created a connection to the database, let's make some queries.\n",
    "\n",
    "The database contains three tables: Survey, Question, and Answer.\n",
    "\n",
    "  1. **Survey**, containing columns:\n",
    "    - `PRIMARY KEY INT SurveyID`\n",
    "    - `TEXT Description`\n",
    "\n",
    "\n",
    "  2. **Question**, containing columns: \n",
    "    - `PRIMARY KEY QuestionID`\n",
    "    - `TEXT QuestionText`\n",
    "\n",
    "\n",
    "  3. **Answer**, containing columns:\n",
    "    - `PRIMARY/FOREIGN KEY SurveyID`\n",
    "    - `PRIMARY KEY UserID`\n",
    "    - `PRIMARY/FOREIGN KEY QuestionID`\n",
    "    - `TEXT AnswerText`\n",
    "\n",
    "\n",
    "SuveyID contains the survey year i.e. 2014, 2016, 2017, 2018, 2019 and the same question can be used for multiple surveys. \n",
    "\n",
    "Answer table is composite, with multiple primary keys. Here, SurveyID and QuestionID are [`FOREIGN KEYS`](https://www.w3schools.com/sql/sql_foreignkey.asp)\n",
    "\n",
    "Some questions can contain multiple answers, thus the same user can appear more than once for any given QuestionID.\n",
    "\n",
    "You can find more information [here](https://www.kaggle.com/anth7310/mental-health-in-the-tech-industry).\n"
   ]
  },
  {
   "cell_type": "markdown",
   "metadata": {},
   "source": [
    "**1. Write a SQL query that finds all the records within the Question table where the QuestionID is equal to 2 or 3. The columns should be called `Question` and `ID`**"
   ]
  },
  {
   "cell_type": "code",
   "execution_count": 5,
   "metadata": {},
   "outputs": [],
   "source": [
    "# Add your code below\n",
    "question_2_3_query =  \"\"\"\n",
    "    SELECT QuestionText AS Question, QuestionID AS ID\n",
    "    FROM Question\n",
    "    WHERE QuestionID IN (2, 3);\n",
    "\"\"\"\n",
    "question_2_3_result = pd.read_sql(question_2_3_query, conn)\n",
    "question_2_3_result"
   ]
  },
  {
   "cell_type": "markdown",
   "metadata": {},
   "source": [
    "**2. Write a SQL query to retrieve the surveys from 2014 and 2017. The columns should be called `Year` and `Year_Description`**"
   ]
  },
  {
   "cell_type": "code",
   "execution_count": 6,
   "metadata": {},
   "outputs": [],
   "source": [
    "# Add your code below\n",
    "survey_years_query = \"\"\"\n",
    "    SELECT SurveyID AS Year,Description AS Year_Description\n",
    "    FROM Survey\n",
    "    WHERE SurveyID IN (2014, 2017);\n",
    "\"\"\"\n",
    "survey_years_result = pd.read_sql(survey_years_query, conn)\n",
    "survey_years_result"
   ]
  },
  {
   "cell_type": "markdown",
   "metadata": {},
   "source": [
    "**3. Write a SQL query to find out how many answers in total have been given throughout the years. Your result should contain one column, called `answers_count`**"
   ]
  },
  {
   "cell_type": "code",
   "execution_count": 35,
   "metadata": {},
   "outputs": [],
   "source": [
    "# Add your code below\n",
    "number_of_answers_query = \"\"\"\n",
    "    SELECT COUNT(SurveyID) AS answers_count\n",
    "    FROM Answer;\n",
    "\"\"\"\n",
    "number_of_answers_result = pd.read_sql(number_of_answers_query, conn)\n",
    "number_of_answers_result"
   ]
  },
  {
   "cell_type": "markdown",
   "metadata": {},
   "source": [
    "**4. Write a SQL query to find out how many answers have been given in 2017 and 2019. Your result should contain one column, called `answers_count`**"
   ]
  },
  {
   "cell_type": "code",
   "execution_count": 36,
   "metadata": {},
   "outputs": [],
   "source": [
    "# Add your code below\n",
    "number_of_answers_17_19_query = \"\"\"\n",
    "    SELECT COUNT(*) AS answers_count\n",
    "    FROM Answer\n",
    "    WHERE SurveyID IN (2017, 2019);\n",
    "\"\"\"\n",
    "number_of_answers_17_19_result = pd.read_sql(number_of_answers_17_19_query, conn)\n",
    "number_of_answers_17_19_result"
   ]
  },
  {
   "cell_type": "markdown",
   "metadata": {},
   "source": [
    "**5. Write a SQL query to extract the first 100 answers for the year 2014. Your result should contain one column (the answer text)**"
   ]
  },
  {
   "cell_type": "code",
   "execution_count": 37,
   "metadata": {
    "scrolled": false
   },
   "outputs": [],
   "source": [
    "# Add your code below\n",
    "answer_2014_query = \"\"\"\n",
    "    SELECT AnswerText\n",
    "    FROM Answer\n",
    "    WHERE SurveyID = 2014\n",
    "    LIMIT 100;\n",
    "\"\"\"\n",
    "answer_2014_result = pd.read_sql(answer_2014_query, conn)\n",
    "answer_2014_result"
   ]
  },
  {
   "cell_type": "markdown",
   "metadata": {},
   "source": [
    "**6. For each year of the survey, how many questions have been asked? Return a table containing the survey year and the number of unique questions that have been asked for each year. Call the survey year column `year` and the second column `survey_answers`**"
   ]
  },
  {
   "cell_type": "code",
   "execution_count": 10,
   "metadata": {},
   "outputs": [],
   "source": [
    "# Add your code below\n",
    "answer_per_survey_query = \"\"\"\n",
    "    SELECT COUNT(DISTINCT QuestionID) AS survey_answers, SurveyID AS year\n",
    "    FROM Answer\n",
    "    GROUP BY SurveyID;\n",
    "\"\"\"\n",
    "answer_per_survey_result = pd.read_sql(answer_per_survey_query, conn)\n",
    "answer_per_survey_result"
   ]
  },
  {
   "cell_type": "markdown",
   "metadata": {},
   "source": [
    "**7. Select the maximum age of the participants for each survey year. Return a table containing the survey year and the maximum age of participants for that year. Your result should contain two columns: one called `year` and one called `max_age`**\n",
    "\n",
    "**Hint**: Have a look at the Question table first to find which question asks participants about their age."
   ]
  },
  {
   "cell_type": "code",
   "execution_count": 38,
   "metadata": {},
   "outputs": [],
   "source": [
    "# Add your code below\n",
    "max_age_query = \"\"\"\n",
    "    SELECT SurveyID as year, MAX(CAST(AnswerText AS INT)) AS max_age\n",
    "    FROM Answer\n",
    "    WHERE QuestionID = 1\n",
    "    GROUP BY SurveyID;\n",
    "\"\"\"\n",
    "max_age_result = pd.read_sql(max_age_query, conn)\n",
    "max_age_result\n",
    "#the max age of 8 was given to the 2014 survey, therefore it would be the case that text values should be converted to intergers\n",
    "#however, the result given does not answer my question, what is wrong?"
   ]
  },
  {
   "cell_type": "code",
   "execution_count": 12,
   "metadata": {},
   "outputs": [],
   "source": [
    "questions = \"\"\"\n",
    "    SELECT *\n",
    "    FROM Question\n",
    "\"\"\"\n",
    "all_questions = pd.read_sql(questions, conn)\n",
    "all_questions"
   ]
  },
  {
   "cell_type": "code",
   "execution_count": 13,
   "metadata": {},
   "outputs": [],
   "source": [
    "#to find max age given for questionID 1 in 2014\n",
    "max_age_2014_query = \"\"\"\n",
    "    SELECT MAX(AnswerText)\n",
    "    FROM Answer\n",
    "    WHERE QuestionId = 1 AND SurveyID = 2014\n",
    "\"\"\"\n",
    "max_age_2014_result = pd.read_sql(max_age_query, conn)\n",
    "max_age_2014_result\n",
    "#the result does not match the table below, 46 is the max age from what we can see"
   ]
  },
  {
   "cell_type": "code",
   "execution_count": 14,
   "metadata": {},
   "outputs": [],
   "source": [
    "#to find answers given to questionID 1\n",
    "questionid_query = \"\"\"\n",
    "    SELECT *\n",
    "    FROM Answer\n",
    "    WHERE QuestionId = 1 AND SurveyID = 2014;\n",
    "\"\"\"\n",
    "questionid_result = pd.read_sql(max_age_query, conn)\n",
    "questionid_result"
   ]
  },
  {
   "cell_type": "markdown",
   "metadata": {},
   "source": [
    "**8. Write a SQL query that finds out how many people always, never, or sometimes work remotely. Your result should have one column called `answer`, and one called `count`**\n",
    "\n",
    "**Hint**: Have a look at the Question table first to find which question asks participants about how often they work remotely. Note that always, never, and sometimes are the three possible answers."
   ]
  },
  {
   "cell_type": "code",
   "execution_count": 21,
   "metadata": {},
   "outputs": [],
   "source": [
    "# Add your code below\n",
    "work_remotely_query = \"\"\"\n",
    "    SELECT COUNT(UserID) AS count, AnswerText AS answer\n",
    "    FROM Answer\n",
    "    WHERE QuestionId = 118 AND AnswerText IN ('Always', 'Never', 'Sometimes')\n",
    "    GROUP BY AnswerText;\n",
    "\"\"\"\n",
    "work_remotely_result = pd.read_sql(work_remotely_query, conn)\n",
    "work_remotely_result\n"
   ]
  },
  {
   "cell_type": "markdown",
   "metadata": {},
   "source": [
    "**9. Write a SQL query that returns the given age of 2016 survey participants as well as the count of participants for each age. Call the age column `participant_age` and the count column `number_of_participants`**"
   ]
  },
  {
   "cell_type": "code",
   "execution_count": 39,
   "metadata": {},
   "outputs": [],
   "source": [
    "# Add your code below\n",
    "age_freq_query = \"\"\"\n",
    "    SELECT AnswerText AS participant_age, COUNT(*) AS number_of_participants\n",
    "    FROM Answer\n",
    "    WHERE QuestionId = 1 AND SurveyID = 2016\n",
    "    GROUP BY AnswerText;\n",
    "\"\"\"\n",
    "age_freq_result = pd.read_sql(age_freq_query, conn)\n",
    "age_freq_result"
   ]
  },
  {
   "cell_type": "markdown",
   "metadata": {},
   "source": [
    "**10. Now let's make Question 6 a little bit more complicated and order the year in descending order. Call the survey year column `year` and the count column `survey_answers`**"
   ]
  },
  {
   "cell_type": "code",
   "execution_count": 31,
   "metadata": {},
   "outputs": [],
   "source": [
    "# Add your code below\n",
    "answer_per_survey_advanced_query = \"\"\"\n",
    "    SELECT COUNT(DISTINCT QuestionID) AS survey_answers, SurveyID AS year\n",
    "    FROM Answer\n",
    "    GROUP BY SurveyID\n",
    "    ORDER BY SurveyID DESC;\n",
    "\"\"\"\n",
    "answer_per_survey_advanced_result = pd.read_sql(answer_per_survey_advanced_query, conn)\n",
    "answer_per_survey_advanced_result"
   ]
  }
 ],
 "metadata": {
  "kernelspec": {
   "display_name": "Python 3 (ipykernel)",
   "language": "python",
   "name": "python3"
  },
  "language_info": {
   "codemirror_mode": {
    "name": "ipython",
    "version": 3
   },
   "file_extension": ".py",
   "mimetype": "text/x-python",
   "name": "python",
   "nbconvert_exporter": "python",
   "pygments_lexer": "ipython3",
   "version": "3.7.17"
  }
 },
 "nbformat": 4,
 "nbformat_minor": 2
}
