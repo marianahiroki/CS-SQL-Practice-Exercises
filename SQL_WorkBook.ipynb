{
 "cells": [
  {
   "cell_type": "markdown",
   "metadata": {
    "slideshow": {
     "slide_type": "slide"
    }
   },
   "source": [
    "<img src=\"img/LinkedIN Header.jpg\">"
   ]
  },
  {
   "cell_type": "markdown",
   "metadata": {
    "slideshow": {
     "slide_type": "slide"
    }
   },
   "source": [
    "# Introduction to SQL - Lesson 1"
   ]
  },
  {
   "cell_type": "markdown",
   "metadata": {
    "slideshow": {
     "slide_type": "slide"
    }
   },
   "source": [
    "# Data Exploration"
   ]
  },
  {
   "cell_type": "markdown",
   "metadata": {
    "slideshow": {
     "slide_type": "slide"
    }
   },
   "source": [
    "We will work mainly with one database through this workbook. Run next cell to create the connection to the database, located in the `data` folder. "
   ]
  },
  {
   "cell_type": "code",
   "execution_count": 1,
   "metadata": {
    "slideshow": {
     "slide_type": "slide"
    }
   },
   "outputs": [],
   "source": [
    "import sqlite3\n",
    "import pandas as pd\n",
    "conn = sqlite3.connect(\"data/flights.db\")"
   ]
  },
  {
   "cell_type": "markdown",
   "metadata": {
    "slideshow": {
     "slide_type": "slide"
    }
   },
   "source": [
    "A database might have multiple tables. Next cells show the tables and schema for each table in this database"
   ]
  },
  {
   "cell_type": "code",
   "execution_count": 2,
   "metadata": {
    "slideshow": {
     "slide_type": "slide"
    }
   },
   "outputs": [],
   "source": [
    "query = \"\"\"\n",
    "SELECT name \n",
    "FROM sqlite_master \n",
    "WHERE type='table';\n",
    "\"\"\"\n",
    "df = pd.read_sql_query(query, conn)\n",
    "df"
   ]
  },
  {
   "cell_type": "code",
   "execution_count": 3,
   "metadata": {
    "slideshow": {
     "slide_type": "slide"
    }
   },
   "outputs": [],
   "source": [
    "for table in [\"airports\", \"airlines\", \"routes\"]:\n",
    "    query = f\"\"\"\n",
    "    SELECT sql FROM sqlite_master WHERE name = '{table}'\n",
    "    \"\"\"\n",
    "    df = pd.read_sql_query(query, conn)\n",
    "    print(''.join(df.values[0, 0]))"
   ]
  },
  {
   "cell_type": "markdown",
   "metadata": {
    "slideshow": {
     "slide_type": "slide"
    }
   },
   "source": [
    "### Q1. Show all columns of table airlines. Then, show first 5 rows using pandas `head()` function. Measure the time to run the cell\n",
    "\n",
    "Hint: use %%time at the beginning of a cell, to measure the time"
   ]
  },
  {
   "cell_type": "code",
   "execution_count": 4,
   "metadata": {
    "slideshow": {
     "slide_type": "slide"
    }
   },
   "outputs": [],
   "source": [
    "%%time\n",
    "# Add your query below\n",
    "\n",
    "query = \"SELECT * FROM airlines\"\n",
    "df = pd.read_sql_query(query, conn)\n",
    "df.head(5)"
   ]
  },
  {
   "cell_type": "markdown",
   "metadata": {
    "slideshow": {
     "slide_type": "slide"
    }
   },
   "source": [
    "### Q2. Now do the same, but returning just the first 5 rows using SQL. Measure the time again. This time it should be  faster."
   ]
  },
  {
   "cell_type": "code",
   "execution_count": 5,
   "metadata": {
    "slideshow": {
     "slide_type": "slide"
    }
   },
   "outputs": [],
   "source": [
    "%%time\n",
    "# Add your query below\n",
    "\n",
    "query = \"\"\"\n",
    "SELECT name, callsign, country \n",
    "FROM airlines \n",
    "LIMIT 5\n",
    "\"\"\"\n",
    "df = pd.read_sql_query(query, conn)\n",
    "df\n",
    "df = pd.read_sql_query(query, conn)\n",
    "df"
   ]
  },
  {
   "cell_type": "markdown",
   "metadata": {
    "slideshow": {
     "slide_type": "slide"
    }
   },
   "source": [
    "### Q3. Find the First 5 names, callsign and countries from airlines. "
   ]
  },
  {
   "cell_type": "code",
   "execution_count": 6,
   "metadata": {
    "slideshow": {
     "slide_type": "slide"
    }
   },
   "outputs": [],
   "source": [
    "# Add your query below\n",
    "# query= \"\"\"...\n",
    "df = pd.read_sql_query('SELECT name, callsign, country FROM airlines LIMIT 5;', conn)\n",
    "df"
   ]
  },
  {
   "cell_type": "markdown",
   "metadata": {
    "slideshow": {
     "slide_type": "slide"
    }
   },
   "source": [
    "### Q4. Find 7 airlines from United Kingdom"
   ]
  },
  {
   "cell_type": "code",
   "execution_count": 7,
   "metadata": {
    "slideshow": {
     "slide_type": "slide"
    }
   },
   "outputs": [],
   "source": [
    "# Add your query below\n",
    "# query= \"\"\"...\n",
    "df = pd.read_sql_query('SELECT name FROM airlines WHERE country = \"United Kingdom\" LIMIT 7;', conn)\n",
    "df"
   ]
  },
  {
   "cell_type": "markdown",
   "metadata": {
    "slideshow": {
     "slide_type": "slide"
    }
   },
   "source": [
    "### Q5. Find 5 cities from Papua New Guinea"
   ]
  },
  {
   "cell_type": "code",
   "execution_count": 8,
   "metadata": {
    "slideshow": {
     "slide_type": "slide"
    }
   },
   "outputs": [],
   "source": [
    "# Add your query below\n",
    "# query= \"\"\"...\n",
    "df = pd.read_sql_query('SELECT city FROM airports WHERE country = \"Papua New Guinea\" LIMIT 5;',conn)\n",
    "df"
   ]
  },
  {
   "cell_type": "markdown",
   "metadata": {
    "slideshow": {
     "slide_type": "slide"
    }
   },
   "source": [
    "# Predicates"
   ]
  },
  {
   "cell_type": "markdown",
   "metadata": {
    "slideshow": {
     "slide_type": "slide"
    }
   },
   "source": [
    "### Q6. Find airlines having icao equal to ACC or TWF. "
   ]
  },
  {
   "cell_type": "code",
   "execution_count": 35,
   "metadata": {
    "scrolled": true,
    "slideshow": {
     "slide_type": "slide"
    }
   },
   "outputs": [],
   "source": [
    "# Add your query below\n",
    "# query= \"\"\"...\n",
    "df = pd.read_sql_query(\"SELECT name FROM airlines WHERE icao IN ('ACC', 'TWF');\", conn)\n",
    "df"
   ]
  },
  {
   "cell_type": "markdown",
   "metadata": {
    "slideshow": {
     "slide_type": "slide"
    }
   },
   "source": [
    "### Q7. Find names and country of private flights. \n",
    "Hint - Private flights are named as such. "
   ]
  },
  {
   "cell_type": "code",
   "execution_count": 21,
   "metadata": {
    "slideshow": {
     "slide_type": "slide"
    }
   },
   "outputs": [],
   "source": [
    "# Add your query below\n",
    "# query= \"\"\"...\n",
    "df = pd.read_sql_query('SELECT name, country FROM airlines WHERE name LIKE \"%private%\";',conn)\n",
    "df"
   ]
  },
  {
   "cell_type": "markdown",
   "metadata": {
    "slideshow": {
     "slide_type": "slide"
    }
   },
   "source": [
    "### Q8. Find 5 airlines whose names contains the word Flight"
   ]
  },
  {
   "cell_type": "code",
   "execution_count": 23,
   "metadata": {
    "scrolled": true,
    "slideshow": {
     "slide_type": "slide"
    }
   },
   "outputs": [],
   "source": [
    "# Add your query below\n",
    "# query= \"\"\"...\n",
    "df = pd.read_sql_query('SELECT name FROM airlines WHERE name LIKE \"%flight%\" LIMIT 5;',conn)\n",
    "df"
   ]
  },
  {
   "cell_type": "markdown",
   "metadata": {
    "slideshow": {
     "slide_type": "slide"
    }
   },
   "source": [
    "### Q9. Find 5 airlines whose names contains the word Flight and from Russia"
   ]
  },
  {
   "cell_type": "code",
   "execution_count": 25,
   "metadata": {
    "slideshow": {
     "slide_type": "slide"
    }
   },
   "outputs": [],
   "source": [
    "# Add your query below\n",
    "# query= \"\"\"...\n",
    "df = pd.read_sql_query(\"SELECT name FROM airlines WHERE name LIKE '%flight%' AND country = 'Russia' LIMIT 5;\", conn)\n",
    "df"
   ]
  },
  {
   "cell_type": "markdown",
   "metadata": {
    "slideshow": {
     "slide_type": "slide"
    }
   },
   "source": [
    "### Q10. Find 5 active airlines having a non-empty callsign value. Show name, active, and callsign fields"
   ]
  },
  {
   "cell_type": "code",
   "execution_count": 26,
   "metadata": {
    "slideshow": {
     "slide_type": "slide"
    }
   },
   "outputs": [],
   "source": [
    "# Add your query below\n",
    "# query= \"\"\"...\n",
    "df = pd.read_sql_query(\"SELECT name,active,callsign FROM airlines WHERE callsign !='Null' LIMIT 5;\", conn)\n",
    "df"
   ]
  },
  {
   "cell_type": "markdown",
   "metadata": {
    "slideshow": {
     "slide_type": "slide"
    }
   },
   "source": [
    "### Q11. Find the 5 airports with the highest altitude"
   ]
  },
  {
   "cell_type": "code",
   "execution_count": 37,
   "metadata": {
    "slideshow": {
     "slide_type": "slide"
    }
   },
   "outputs": [],
   "source": [
    "# Add your query below\n",
    "# query= \"\"\"...\n",
    "df = pd.read_sql_query(\"SELECT * FROM airports ORDER BY altitude DESC LIMIT 5;\", conn)\n",
    "df"
   ]
  },
  {
   "cell_type": "markdown",
   "metadata": {
    "slideshow": {
     "slide_type": "slide"
    }
   },
   "source": [
    "As you can see, there's a problem here with the data. The field altitude is a string, so it's not ordering properly. We'll correct this later"
   ]
  },
  {
   "cell_type": "markdown",
   "metadata": {
    "slideshow": {
     "slide_type": "slide"
    }
   },
   "source": [
    "### Q12. Find the 3 airport names beggining with A that have the lowest longitude"
   ]
  },
  {
   "cell_type": "code",
   "execution_count": 31,
   "metadata": {
    "slideshow": {
     "slide_type": "slide"
    }
   },
   "outputs": [],
   "source": [
    "# Add your query below\n",
    "# query= \"\"\"...\n",
    "df = pd.read_sql_query(\"SELECT name FROM airports WHERE name LIKE 'A%' ORDER BY longitude ASC LIMIT 3;\", conn)\n",
    "df"
   ]
  }
 ],
 "metadata": {
  "kernelspec": {
   "display_name": "Python 3 (ipykernel)",
   "language": "python",
   "name": "python3"
  },
  "language_info": {
   "codemirror_mode": {
    "name": "ipython",
    "version": 3
   },
   "file_extension": ".py",
   "mimetype": "text/x-python",
   "name": "python",
   "nbconvert_exporter": "python",
   "pygments_lexer": "ipython3",
   "version": "3.7.17"
  },
  "pycharm": {
   "stem_cell": {
    "cell_type": "raw",
    "metadata": {
     "collapsed": false
    },
    "source": []
   }
  },
  "toc-showcode": true,
  "toc-showmarkdowntxt": true
 },
 "nbformat": 4,
 "nbformat_minor": 4
}
